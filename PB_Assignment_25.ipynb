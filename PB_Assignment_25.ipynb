{
  "nbformat": 4,
  "nbformat_minor": 0,
  "metadata": {
    "colab": {
      "provenance": []
    },
    "kernelspec": {
      "name": "python3",
      "display_name": "Python 3"
    },
    "language_info": {
      "name": "python"
    }
  },
  "cells": [
    {
      "cell_type": "markdown",
      "source": [
        "1) . What is the difference between enclosing a list comprehension in square brackets and\n",
        "parentheses?"
      ],
      "metadata": {
        "id": "AiM9KanHbZ4I"
      }
    },
    {
      "cell_type": "code",
      "source": [
        "lst = [i for i in range(10)]\n",
        "lst\n",
        "#List Comprehension with square brackets produces list.\n",
        "#List Comprehension with parentheses creates generator"
      ],
      "metadata": {
        "colab": {
          "base_uri": "https://localhost:8080/"
        },
        "id": "FCOGUKc9gRwg",
        "outputId": "55d0772c-3f75-4a44-b234-1c29b0ec99b2"
      },
      "execution_count": 1,
      "outputs": [
        {
          "output_type": "execute_result",
          "data": {
            "text/plain": [
              "[0, 1, 2, 3, 4, 5, 6, 7, 8, 9]"
            ]
          },
          "metadata": {},
          "execution_count": 1
        }
      ]
    },
    {
      "cell_type": "code",
      "source": [
        "#If you are familiar with list comprehensions, then this look likes it might create a tuple which is (1,2,3,4,....), \n",
        "#but it is actually a generator expression - this expression is a one time only iterator which will yield the values 1, 2, 3, 4.... in that order\n",
        "\n",
        "lstParanthesis = (i for i in range(10))\n",
        "lstParanthesis"
      ],
      "metadata": {
        "colab": {
          "base_uri": "https://localhost:8080/"
        },
        "id": "hNpPe-TjgUqV",
        "outputId": "ebf75094-ca5e-47e3-8154-1e40ed49dea1"
      },
      "execution_count": 2,
      "outputs": [
        {
          "output_type": "execute_result",
          "data": {
            "text/plain": [
              "<generator object <genexpr> at 0x7fc239a8b150>"
            ]
          },
          "metadata": {},
          "execution_count": 2
        }
      ]
    },
    {
      "cell_type": "code",
      "source": [
        "list(lstParanthesis)"
      ],
      "metadata": {
        "colab": {
          "base_uri": "https://localhost:8080/"
        },
        "id": "pLsCTCM5gW0e",
        "outputId": "c74538bd-f341-4019-f9eb-fe09c1237594"
      },
      "execution_count": 3,
      "outputs": [
        {
          "output_type": "execute_result",
          "data": {
            "text/plain": [
              "[0, 1, 2, 3, 4, 5, 6, 7, 8, 9]"
            ]
          },
          "metadata": {},
          "execution_count": 3
        }
      ]
    },
    {
      "cell_type": "markdown",
      "source": [
        "2) What is the relationship between generators and iterators?"
      ],
      "metadata": {
        "id": "LuUIhRmObcQQ"
      }
    },
    {
      "cell_type": "markdown",
      "source": [
        "\n",
        "*   An iterator is an object which contains a countable number of values and it is used to iterate over iterable objects like list, tuples etc Using an iterator- iter() keyword is used to create an iterator containing an iterable object. next() keyword is used to call the next element in the iterable object\n",
        "*   Generator It is another way of creating iterators in a simple way where it uses the keyword “yield” instead of returning it in a defined function Generators are implemented using a function Here, the yield function returns the data without affecting or exiting the function. It will return a sequence of data in an iterable format where we need to iterate over the sequence to use the data as they won’t store the entire sequence in the memory By using next() function we can iterate the output of generator function\n",
        "\n"
      ],
      "metadata": {
        "id": "Bqw7Y2BUgbHP"
      }
    },
    {
      "cell_type": "code",
      "source": [
        "# iterator\n",
        "iter_list = iter(['Dog', 'CAt', 'Bear'])\n",
        "print(next(iter_list))\n",
        "print(next(iter_list))\n",
        "print(next(iter_list))"
      ],
      "metadata": {
        "colab": {
          "base_uri": "https://localhost:8080/"
        },
        "id": "SiajsD8IglMm",
        "outputId": "07fb32b1-a267-4d0e-b75b-7a836514669a"
      },
      "execution_count": 5,
      "outputs": [
        {
          "output_type": "stream",
          "name": "stdout",
          "text": [
            "Dog\n",
            "CAt\n",
            "Bear\n"
          ]
        }
      ]
    },
    {
      "cell_type": "code",
      "source": [
        "# GEnerator \n",
        "\n",
        "def sq(n):\n",
        "    for i in range(1, n+1):\n",
        "        yield i*i"
      ],
      "metadata": {
        "id": "dSr6A6tYgtVf"
      },
      "execution_count": 6,
      "outputs": []
    },
    {
      "cell_type": "code",
      "source": [
        "sq(6)"
      ],
      "metadata": {
        "colab": {
          "base_uri": "https://localhost:8080/"
        },
        "id": "pGfQaZGJguKH",
        "outputId": "7a021ab2-f64f-4bce-ec7f-9d91ff4f2484"
      },
      "execution_count": 7,
      "outputs": [
        {
          "output_type": "execute_result",
          "data": {
            "text/plain": [
              "<generator object sq at 0x7fc239a8b5d0>"
            ]
          },
          "metadata": {},
          "execution_count": 7
        }
      ]
    },
    {
      "cell_type": "code",
      "source": [
        "lst = sq(6)\n",
        "lst"
      ],
      "metadata": {
        "colab": {
          "base_uri": "https://localhost:8080/"
        },
        "id": "dyqf6oUvgyx1",
        "outputId": "b3d49df7-1355-439c-b434-d0b2c872ebda"
      },
      "execution_count": 8,
      "outputs": [
        {
          "output_type": "execute_result",
          "data": {
            "text/plain": [
              "<generator object sq at 0x7fc239a8b850>"
            ]
          },
          "metadata": {},
          "execution_count": 8
        }
      ]
    },
    {
      "cell_type": "code",
      "source": [
        "print(next(lst))\n",
        "print(next(lst))\n",
        "print(next(lst))\n",
        "print(next(lst))"
      ],
      "metadata": {
        "colab": {
          "base_uri": "https://localhost:8080/"
        },
        "id": "cBjvwGydg1Xp",
        "outputId": "b2ee58fa-abb4-4f94-b4df-e538da5bef42"
      },
      "execution_count": 9,
      "outputs": [
        {
          "output_type": "stream",
          "name": "stdout",
          "text": [
            "1\n",
            "4\n",
            "9\n",
            "16\n"
          ]
        }
      ]
    },
    {
      "cell_type": "markdown",
      "source": [
        "3) What are the signs that a function is a generator function?"
      ],
      "metadata": {
        "id": "4oZuJV0UbeSj"
      }
    },
    {
      "cell_type": "markdown",
      "source": [
        " If a function contains at least one yield statement (it may contain other yield or return statements), it becomes a generator function. Both yield and return will return some value from a function."
      ],
      "metadata": {
        "id": "i_1uYAt9g5Is"
      }
    },
    {
      "cell_type": "markdown",
      "source": [
        "4) What is the purpose of a yield statement?"
      ],
      "metadata": {
        "id": "yUdEF7o6KAaV"
      }
    },
    {
      "cell_type": "markdown",
      "source": [
        "A yield statement looks much like a return statement, except that instead of stopping execution of the function and returning, yield instead provides a value to the code looping over the generator and pauses execution of the generator function"
      ],
      "metadata": {
        "id": "qYLgDUzEg8IA"
      }
    },
    {
      "cell_type": "markdown",
      "source": [
        "5) What is the relationship between map calls and list comprehensions? Make a comparison and\n",
        "contrast between the two."
      ],
      "metadata": {
        "id": "q6Oh-Tp5KCeu"
      }
    },
    {
      "cell_type": "markdown",
      "source": [
        "*  Map function: Suppose we have a function and we want to compute this function for different values in a single line of code . This is where map() function plays its role. map() function returns a map object(which is an iterator) of the results after applying the given function to each item of a given iterable (list, tuple etc.)\n",
        "*  If we already have a function defined, it is often good to use map For example, map(sum, myLists) is more neat than [sum(x) for x in myLists]. You gain the elegance of not having to make up a dummy variable (e.g. sum(x) for x... or sum() for ... or sum(readableName) for readableName...) which you have to type twice, just to iterate.\n",
        "*  List Comprehension: List Comprehension is a substitute for the lambda function, map(), filter() and reduce()\n",
        "* Comparision:\n",
        "     1. List comprehension is more concise and easier to read as compared to map\n",
        "     2. List comprehension allows filtering. In map, we have no such facility For example, to print all even numbers in range of 100, we can write [n for n in range(100) if n%2 == 0]. There is no alternate for it in map\n",
        "     3. List comprehension are used when a list of results is required, where as map only returns a map object and does not return any list.\n",
        "     4. List comprehension is faster than map when we need to evaluate expressions that are too long or complicated to express\n",
        "     5. Map is faster in case of calling an already defined function (as no lambda is required)"
      ],
      "metadata": {
        "id": "UaBBRWS_jESS"
      }
    },
    {
      "cell_type": "code",
      "execution_count": null,
      "metadata": {
        "id": "_2__Ocr_Y-fL"
      },
      "outputs": [],
      "source": []
    }
  ]
}