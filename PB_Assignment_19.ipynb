{
  "nbformat": 4,
  "nbformat_minor": 0,
  "metadata": {
    "colab": {
      "provenance": []
    },
    "kernelspec": {
      "name": "python3",
      "display_name": "Python 3"
    },
    "language_info": {
      "name": "python"
    }
  },
  "cells": [
    {
      "cell_type": "markdown",
      "source": [
        "1. Make a class called Thing with no contents and print it. Then, create an object called example\n",
        "from this class and also print it. Are the printed values the same or different?"
      ],
      "metadata": {
        "id": "gAVPrDBBXVVD"
      }
    },
    {
      "cell_type": "code",
      "source": [
        "class Thing:\n",
        "    pass"
      ],
      "metadata": {
        "id": "_Ell5NiUBeK3"
      },
      "execution_count": 1,
      "outputs": []
    },
    {
      "cell_type": "code",
      "source": [
        "print(Thing)"
      ],
      "metadata": {
        "colab": {
          "base_uri": "https://localhost:8080/"
        },
        "id": "0mNeMx4VBe_N",
        "outputId": "7fbd0347-5fb1-4334-b6ce-8130629c2434"
      },
      "execution_count": 2,
      "outputs": [
        {
          "output_type": "stream",
          "name": "stdout",
          "text": [
            "<class '__main__.Thing'>\n"
          ]
        }
      ]
    },
    {
      "cell_type": "code",
      "source": [
        "example = Thing()\n",
        "print(example)\n",
        "#Printed values are not same, it prints, class and object details."
      ],
      "metadata": {
        "colab": {
          "base_uri": "https://localhost:8080/"
        },
        "id": "z3MGRStpBiXX",
        "outputId": "b66d01e3-fb1d-481b-c2d8-ed39d1c8c8f2"
      },
      "execution_count": 3,
      "outputs": [
        {
          "output_type": "stream",
          "name": "stdout",
          "text": [
            "<__main__.Thing object at 0x7f2546e7b290>\n"
          ]
        }
      ]
    },
    {
      "cell_type": "markdown",
      "source": [
        "2. Create a new class called Thing2 and add the value &#39;abc&#39; to the letters class attribute. Letters\n",
        "should be printed."
      ],
      "metadata": {
        "id": "KJ-qX4pKXW7r"
      }
    },
    {
      "cell_type": "code",
      "source": [
        "class Thing2:\n",
        "  letter = 'abc'\n",
        "Thing2.letter"
      ],
      "metadata": {
        "colab": {
          "base_uri": "https://localhost:8080/",
          "height": 35
        },
        "id": "QnxIDQ-dBxT7",
        "outputId": "5fb0c908-813c-4de4-92c8-ebcde8e4888e"
      },
      "execution_count": 8,
      "outputs": [
        {
          "output_type": "execute_result",
          "data": {
            "text/plain": [
              "'abc'"
            ],
            "application/vnd.google.colaboratory.intrinsic+json": {
              "type": "string"
            }
          },
          "metadata": {},
          "execution_count": 8
        }
      ]
    },
    {
      "cell_type": "markdown",
      "source": [
        "3. Make yet another class called, of course, Thing3. This time, assign the value &#39;xyz&#39; to an instance\n",
        "(object) attribute called letters. Print letters. Do you need to make an object from the class to do\n",
        "this?"
      ],
      "metadata": {
        "id": "0P_6CQFmXZC3"
      }
    },
    {
      "cell_type": "code",
      "source": [
        "class Thing3:\n",
        "    def __init__(self,letter):\n",
        "        self.letter = letter\n",
        "    def letters(self):\n",
        "        print(self.letter)\n",
        "Thing3('xyz').letters()"
      ],
      "metadata": {
        "colab": {
          "base_uri": "https://localhost:8080/"
        },
        "id": "TQHpLhApB1nl",
        "outputId": "ac3d6c88-e6b7-462c-bcba-48f73376a807"
      },
      "execution_count": 5,
      "outputs": [
        {
          "output_type": "stream",
          "name": "stdout",
          "text": [
            "xyz\n"
          ]
        }
      ]
    },
    {
      "cell_type": "markdown",
      "source": [
        "4. Create an Element class with the instance attributes name, symbol, and number. Create a class\n",
        "object with the values &#39;Hydrogen,&#39; &#39;H,&#39; and 1."
      ],
      "metadata": {
        "id": "hrvh49N2XbF4"
      }
    },
    {
      "cell_type": "code",
      "source": [
        "class Element:\n",
        "    def __init__(self,name,symbol,number):\n",
        "        self.name = name\n",
        "        self.symbol = symbol\n",
        "        self.number = number\n",
        "    def printThem(self):\n",
        "        print(self.name,self.symbol,self.number)"
      ],
      "metadata": {
        "id": "jc4AOoI-Cb5r"
      },
      "execution_count": 9,
      "outputs": []
    },
    {
      "cell_type": "code",
      "source": [
        "obj = Element('Hydrogen','H',1)\n",
        "obj.name"
      ],
      "metadata": {
        "colab": {
          "base_uri": "https://localhost:8080/",
          "height": 35
        },
        "id": "wFIpuUrkCezj",
        "outputId": "f06aca17-b6e5-4b59-8394-195ec5de8a0d"
      },
      "execution_count": 10,
      "outputs": [
        {
          "output_type": "execute_result",
          "data": {
            "text/plain": [
              "'Hydrogen'"
            ],
            "application/vnd.google.colaboratory.intrinsic+json": {
              "type": "string"
            }
          },
          "metadata": {},
          "execution_count": 10
        }
      ]
    },
    {
      "cell_type": "markdown",
      "source": [
        "5. Make a dictionary with these keys and values: &#39;name&#39;: &#39;Hydrogen&#39;, &#39;symbol&#39;: &#39;H&#39;, &#39;number&#39;: 1. Then,\n",
        "create an object called hydrogen from class Element using this dictionary."
      ],
      "metadata": {
        "id": "CITR36ODXd_B"
      }
    },
    {
      "cell_type": "code",
      "source": [
        "dict = {'name':'Hydrogen', 'symbol':'H','number': 1}\n",
        "hydrogen = Element(**dict) # using dictionary unpacking **\n",
        "hydrogen.symbol"
      ],
      "metadata": {
        "colab": {
          "base_uri": "https://localhost:8080/",
          "height": 35
        },
        "id": "MqVUNszmCi0H",
        "outputId": "baa41263-7b5e-439f-e4f2-311335e70dc1"
      },
      "execution_count": 11,
      "outputs": [
        {
          "output_type": "execute_result",
          "data": {
            "text/plain": [
              "'H'"
            ],
            "application/vnd.google.colaboratory.intrinsic+json": {
              "type": "string"
            }
          },
          "metadata": {},
          "execution_count": 11
        }
      ]
    },
    {
      "cell_type": "markdown",
      "source": [
        "6. For the Element class, define a method called dump() that prints the values of the object’s\n",
        "attributes (name, symbol, and number). Create the hydrogen object from this new definition and\n",
        "use dump() to print its attributes."
      ],
      "metadata": {
        "id": "cPF0JNj-Xgqe"
      }
    },
    {
      "cell_type": "code",
      "source": [
        "class Element:\n",
        "    def __init__(self,name,symbol,number):\n",
        "        self.name = name\n",
        "        self.symbol = symbol\n",
        "        self.number = number\n",
        "    def dump(self):\n",
        "        print(self.name,self.symbol,self.number)"
      ],
      "metadata": {
        "id": "eFMiAIO_CuQr"
      },
      "execution_count": 12,
      "outputs": []
    },
    {
      "cell_type": "code",
      "source": [
        "hydrogen = Element('Hydrogen','H',1)\n",
        "hydrogen.dump()"
      ],
      "metadata": {
        "colab": {
          "base_uri": "https://localhost:8080/"
        },
        "id": "W-CFrPWeCxDA",
        "outputId": "79eaf492-6db2-4b4d-92cd-e43d4d4303b1"
      },
      "execution_count": 13,
      "outputs": [
        {
          "output_type": "stream",
          "name": "stdout",
          "text": [
            "Hydrogen H 1\n"
          ]
        }
      ]
    },
    {
      "cell_type": "markdown",
      "source": [
        "7. Call print(hydrogen). In the definition of Element, change the name of method dump to __str__,\n",
        "create a new hydrogen object, and call print(hydrogen) again."
      ],
      "metadata": {
        "id": "e0bOcwFaXivp"
      }
    },
    {
      "cell_type": "code",
      "source": [
        "class Element:\n",
        "    def __init__(self,name,symbol,number):\n",
        "        self.name = name\n",
        "        self.symbol = symbol\n",
        "        self.number = number\n",
        "    def __str__(self):\n",
        "        return ('name=%s, symbol=%s, number=%s'% (self.name, self.symbol, self.number) )"
      ],
      "metadata": {
        "id": "5T0uuOb-C1FW"
      },
      "execution_count": 14,
      "outputs": []
    },
    {
      "cell_type": "code",
      "source": [
        "hydrogen = Element('Hydrogen','H',1)\n",
        "print(hydrogen)"
      ],
      "metadata": {
        "colab": {
          "base_uri": "https://localhost:8080/"
        },
        "id": "OC6RP7q4C4md",
        "outputId": "57b6f3b6-02db-474f-e45d-8665a2150d87"
      },
      "execution_count": 15,
      "outputs": [
        {
          "output_type": "stream",
          "name": "stdout",
          "text": [
            "name=Hydrogen, symbol=H, number=1\n"
          ]
        }
      ]
    },
    {
      "cell_type": "markdown",
      "source": [
        "8. Modify Element to make the attributes name, symbol, and number private. Define a getter\n",
        "property for each to return its value."
      ],
      "metadata": {
        "id": "SadncAwxXl0V"
      }
    },
    {
      "cell_type": "code",
      "source": [
        "class Element(): \n",
        "    def __init__(self ,name,symbol,number):\n",
        "        self.__name = name\n",
        "        self.__symbol = symbol\n",
        "        self.__number = number\n",
        "    @property\n",
        "    def name(self):\n",
        "        return (self.__name)\n",
        "    @property\n",
        "    def symbol(self):\n",
        "        return (self.__symbol)\n",
        "    @property\n",
        "    def number(self):\n",
        "        return (self.__number)"
      ],
      "metadata": {
        "id": "tq0U3s7PC2rD"
      },
      "execution_count": 16,
      "outputs": []
    },
    {
      "cell_type": "code",
      "source": [
        "hydrogen = Element('Hydrogen','H',1)\n",
        "hydrogen.name"
      ],
      "metadata": {
        "colab": {
          "base_uri": "https://localhost:8080/",
          "height": 35
        },
        "id": "NSf8RREmC9aC",
        "outputId": "d6ff33ec-db7f-4b36-f2c2-90d4f30144fd"
      },
      "execution_count": 17,
      "outputs": [
        {
          "output_type": "execute_result",
          "data": {
            "text/plain": [
              "'Hydrogen'"
            ],
            "application/vnd.google.colaboratory.intrinsic+json": {
              "type": "string"
            }
          },
          "metadata": {},
          "execution_count": 17
        }
      ]
    },
    {
      "cell_type": "markdown",
      "source": [
        "9. Define three classes: Bear, Rabbit, and Octothorpe. For each, define only one method: eats(). This\n",
        "should return &#39;berries&#39; (Bear), &#39;clover&#39; (Rabbit), or &#39;campers&#39; (Octothorpe). Create one object from\n",
        "each and print what it eats."
      ],
      "metadata": {
        "id": "b_yQLpWKXnxj"
      }
    },
    {
      "cell_type": "code",
      "source": [
        "class Bear:\n",
        "    def eats():\n",
        "        print('berries')\n",
        "\n",
        "class Rabbit:\n",
        "    def eats():\n",
        "        print('clover')\n",
        "\n",
        "class Octothorpe:\n",
        "    def eats():\n",
        "        print('campers')"
      ],
      "metadata": {
        "id": "pkDbf0NqDB5a"
      },
      "execution_count": 18,
      "outputs": []
    },
    {
      "cell_type": "code",
      "source": [
        "Bear.eats()"
      ],
      "metadata": {
        "colab": {
          "base_uri": "https://localhost:8080/"
        },
        "id": "1qpg_q4EDEMX",
        "outputId": "41efc5df-8df8-49fb-9317-ce001b4c9050"
      },
      "execution_count": 19,
      "outputs": [
        {
          "output_type": "stream",
          "name": "stdout",
          "text": [
            "berries\n"
          ]
        }
      ]
    },
    {
      "cell_type": "code",
      "source": [
        "Rabbit.eats()"
      ],
      "metadata": {
        "colab": {
          "base_uri": "https://localhost:8080/"
        },
        "id": "MqYjufpIDF5Z",
        "outputId": "3ab5dc31-1165-4ed8-fcc1-e5d94d9ffc74"
      },
      "execution_count": 20,
      "outputs": [
        {
          "output_type": "stream",
          "name": "stdout",
          "text": [
            "clover\n"
          ]
        }
      ]
    },
    {
      "cell_type": "code",
      "source": [
        "Octothorpe.eats()"
      ],
      "metadata": {
        "colab": {
          "base_uri": "https://localhost:8080/"
        },
        "id": "OZ8XQR4GDHxR",
        "outputId": "4a52fe17-55f6-40ca-c265-d8bc0b2b088d"
      },
      "execution_count": 21,
      "outputs": [
        {
          "output_type": "stream",
          "name": "stdout",
          "text": [
            "campers\n"
          ]
        }
      ]
    },
    {
      "cell_type": "markdown",
      "source": [
        "10. Define these classes: Laser, Claw, and SmartPhone. Each has only one method: does(). This\n",
        "returns &#39;disintegrate&#39; (Laser), &#39;crush&#39; (Claw), or &#39;ring&#39; (SmartPhone). Then, define the class Robot that\n",
        "has one instance (object) of each of these. Define a does() method for the Robot that prints what its\n",
        "component objects do."
      ],
      "metadata": {
        "id": "1zt0p4-qXpm8"
      }
    },
    {
      "cell_type": "code",
      "execution_count": 22,
      "metadata": {
        "id": "EWFH0V72VC7V"
      },
      "outputs": [],
      "source": [
        "class Laser:\n",
        "    def does(self):\n",
        "        return('disitegrate')\n",
        "class Claw:\n",
        "    def does(self):\n",
        "        return('crush')\n",
        "class SmartPhone:\n",
        "    def does(self):\n",
        "        return('ring')\n",
        "        \n",
        "class Robot:\n",
        "    def __init__(self):\n",
        "        self.laser = Laser()\n",
        "        self.claw = Claw()\n",
        "        self.smartphone = SmartPhone()\n",
        "    def does(self):\n",
        "        return ('Laser is %s, Claw is %s, SmartPhone is %s' % (self.laser.does(),self.claw.does(),self.smartphone.does()))"
      ]
    },
    {
      "cell_type": "code",
      "source": [
        "robo = Robot()"
      ],
      "metadata": {
        "id": "rJJLCguTDcTn"
      },
      "execution_count": 23,
      "outputs": []
    },
    {
      "cell_type": "code",
      "source": [
        "robo.does()"
      ],
      "metadata": {
        "colab": {
          "base_uri": "https://localhost:8080/",
          "height": 35
        },
        "id": "FT-KV4sZDfO-",
        "outputId": "868778c2-30d2-4b7a-ba8c-4145d45658f9"
      },
      "execution_count": 24,
      "outputs": [
        {
          "output_type": "execute_result",
          "data": {
            "text/plain": [
              "'Laser is disitegrate, Claw is crush, SmartPhone is ring'"
            ],
            "application/vnd.google.colaboratory.intrinsic+json": {
              "type": "string"
            }
          },
          "metadata": {},
          "execution_count": 24
        }
      ]
    },
    {
      "cell_type": "code",
      "source": [],
      "metadata": {
        "id": "eeCXxk7lDfLd"
      },
      "execution_count": null,
      "outputs": []
    }
  ]
}